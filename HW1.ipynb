{
 "cells": [
  {
   "cell_type": "markdown",
   "id": "34244625-a296-4477-9cb0-869a81502e5d",
   "metadata": {},
   "source": [
    "## Machine Learning for Public Policy HW1 - Data Collection and ETL\n",
    "Name: **Cathy Chen**"
   ]
  },
  {
   "cell_type": "markdown",
   "id": "3b24f6e7-8f0f-42e2-bc6b-c5a262c34871",
   "metadata": {
    "tags": []
   },
   "source": [
    "### Part 1: Get Data\n",
    "**Download the most recent ACS data for every block group in the state**"
   ]
  },
  {
   "cell_type": "code",
   "execution_count": 430,
   "id": "898bef73-9f23-401f-be0f-8ff1e085ef21",
   "metadata": {},
   "outputs": [],
   "source": [
    "import pandas as pd\n",
    "import censusdata\n",
    "import psycopg2"
   ]
  },
  {
   "cell_type": "markdown",
   "id": "4c71d665-9cdb-4437-be8b-79ebc051de08",
   "metadata": {},
   "source": [
    "- Explorate the available ACS APIs from the [website](https://www.census.gov/data/developers/data-sets.html)"
   ]
  },
  {
   "cell_type": "code",
   "execution_count": 358,
   "id": "240d90f4-1150-4c5a-951b-ae1ea0929d29",
   "metadata": {},
   "outputs": [
    {
     "data": {
      "text/plain": [
       "{'Alabama': censusgeo((('state', '01'),)),\n",
       " 'Alaska': censusgeo((('state', '02'),)),\n",
       " 'Arizona': censusgeo((('state', '04'),)),\n",
       " 'Arkansas': censusgeo((('state', '05'),)),\n",
       " 'California': censusgeo((('state', '06'),)),\n",
       " 'Colorado': censusgeo((('state', '08'),)),\n",
       " 'Delaware': censusgeo((('state', '10'),)),\n",
       " 'District of Columbia': censusgeo((('state', '11'),)),\n",
       " 'Connecticut': censusgeo((('state', '09'),)),\n",
       " 'Florida': censusgeo((('state', '12'),)),\n",
       " 'Georgia': censusgeo((('state', '13'),)),\n",
       " 'Idaho': censusgeo((('state', '16'),)),\n",
       " 'Hawaii': censusgeo((('state', '15'),)),\n",
       " 'Illinois': censusgeo((('state', '17'),)),\n",
       " 'Indiana': censusgeo((('state', '18'),)),\n",
       " 'Iowa': censusgeo((('state', '19'),)),\n",
       " 'Kansas': censusgeo((('state', '20'),)),\n",
       " 'Kentucky': censusgeo((('state', '21'),)),\n",
       " 'Louisiana': censusgeo((('state', '22'),)),\n",
       " 'Maine': censusgeo((('state', '23'),)),\n",
       " 'Maryland': censusgeo((('state', '24'),)),\n",
       " 'Massachusetts': censusgeo((('state', '25'),)),\n",
       " 'Michigan': censusgeo((('state', '26'),)),\n",
       " 'Minnesota': censusgeo((('state', '27'),)),\n",
       " 'Mississippi': censusgeo((('state', '28'),)),\n",
       " 'Missouri': censusgeo((('state', '29'),)),\n",
       " 'Montana': censusgeo((('state', '30'),)),\n",
       " 'Nebraska': censusgeo((('state', '31'),)),\n",
       " 'Nevada': censusgeo((('state', '32'),)),\n",
       " 'New Hampshire': censusgeo((('state', '33'),)),\n",
       " 'New Jersey': censusgeo((('state', '34'),)),\n",
       " 'New Mexico': censusgeo((('state', '35'),)),\n",
       " 'New York': censusgeo((('state', '36'),)),\n",
       " 'North Carolina': censusgeo((('state', '37'),)),\n",
       " 'North Dakota': censusgeo((('state', '38'),)),\n",
       " 'Ohio': censusgeo((('state', '39'),)),\n",
       " 'Oklahoma': censusgeo((('state', '40'),)),\n",
       " 'Oregon': censusgeo((('state', '41'),)),\n",
       " 'Pennsylvania': censusgeo((('state', '42'),)),\n",
       " 'Rhode Island': censusgeo((('state', '44'),)),\n",
       " 'South Carolina': censusgeo((('state', '45'),)),\n",
       " 'South Dakota': censusgeo((('state', '46'),)),\n",
       " 'Tennessee': censusgeo((('state', '47'),)),\n",
       " 'Texas': censusgeo((('state', '48'),)),\n",
       " 'Vermont': censusgeo((('state', '50'),)),\n",
       " 'Utah': censusgeo((('state', '49'),)),\n",
       " 'Virginia': censusgeo((('state', '51'),)),\n",
       " 'Washington': censusgeo((('state', '53'),)),\n",
       " 'West Virginia': censusgeo((('state', '54'),)),\n",
       " 'Wisconsin': censusgeo((('state', '55'),)),\n",
       " 'Wyoming': censusgeo((('state', '56'),)),\n",
       " 'Puerto Rico': censusgeo((('state', '72'),))}"
      ]
     },
     "execution_count": 358,
     "metadata": {},
     "output_type": "execute_result"
    }
   ],
   "source": [
    "censusdata.geographies(censusdata.censusgeo([('state', '*')]), 'acs5', 2019) # Iowa"
   ]
  },
  {
   "cell_type": "markdown",
   "id": "30983c65-efc4-4445-8de6-4107aaf5b2cf",
   "metadata": {},
   "source": [
    "- Extract Iowa data with five variables "
   ]
  },
  {
   "cell_type": "code",
   "execution_count": 403,
   "id": "2e2619a0-7026-4f37-be46-cd8d2ac25a70",
   "metadata": {},
   "outputs": [],
   "source": [
    "data = censusdata.download('acs5', 2019,\n",
    "                           censusdata.censusgeo([('state', '19'), ('county', '*'), ('block group', '*')]),\n",
    "                           ['B23025_002E', 'B15002_011E', 'B15002_016E', 'B25075_002E', 'B25075_010E'])"
   ]
  },
  {
   "cell_type": "markdown",
   "id": "69bb18e9-de9b-4afb-9e50-49707fe189f9",
   "metadata": {
    "tags": []
   },
   "source": [
    "### Part 2. Transform Data\n",
    "**Clean and get the data ready to be loaded to the postgres database table**"
   ]
  },
  {
   "cell_type": "markdown",
   "id": "a80fb353-9315-4427-9df6-53b9e68a1915",
   "metadata": {},
   "source": [
    "- Do basic data cleaning for the geographical information. "
   ]
  },
  {
   "cell_type": "code",
   "execution_count": 404,
   "id": "5e469772-991a-4d1f-ac40-bfd84a8a6794",
   "metadata": {},
   "outputs": [],
   "source": [
    "data.reset_index(inplace=True)\n",
    "data['index'] = data['index'].astype('str')\n",
    "data['index'] = data['index'].str.split(',').tolist()"
   ]
  },
  {
   "cell_type": "code",
   "execution_count": 405,
   "id": "b7ef74d0-c498-456c-9471-f5cc7dec3f9e",
   "metadata": {},
   "outputs": [],
   "source": [
    "data['Block_Group'] = data['index'].apply(lambda x: x[0])\n",
    "data['Block_Group'] = data['Block_Group'].apply(lambda x: x.replace('Block Group ', ''))"
   ]
  },
  {
   "cell_type": "code",
   "execution_count": 406,
   "id": "6389ca74-a395-4abe-9df1-65498b021621",
   "metadata": {},
   "outputs": [],
   "source": [
    "data['Census_Tract'] = data['index'].apply(lambda x: x[1])\n",
    "data['Census_Tract'] = data['Census_Tract'].apply(lambda x: x.replace('Census Tract ', ''))\n",
    "data['Census_Tract'] = data['Census_Tract'].apply(lambda x: x.lstrip(' '))\n",
    "data['Census_Tract'] = data['Census_Tract'].apply(lambda x: str(x))"
   ]
  },
  {
   "cell_type": "code",
   "execution_count": 408,
   "id": "ca3d9b54-c9e4-4703-8092-018d5841ab43",
   "metadata": {},
   "outputs": [],
   "source": [
    "data['County'] = data['index'].apply(lambda x: x[2])\n",
    "data['County'] = data['County'].apply(lambda x: x.lstrip(' '))\n",
    "data['County'] = data['County'].apply(lambda x: x.replace(' ', '_'))\n",
    "data['County'] = data['County'].apply(lambda x: x.replace(\"'\", '_'))"
   ]
  },
  {
   "cell_type": "code",
   "execution_count": 409,
   "id": "4748f663-60e3-456b-b32e-83c682a34264",
   "metadata": {},
   "outputs": [],
   "source": [
    "data['State'] =  data['index'].apply(lambda x: x[3])\n",
    "data['State'] =  data['State'].str.split(':').apply(lambda x: x[0])\n",
    "data['State'] = data['State'].apply(lambda x: x.lstrip(' '))"
   ]
  },
  {
   "cell_type": "markdown",
   "id": "423196d5-1fb1-4650-ade6-3590c66d9b21",
   "metadata": {},
   "source": [
    "- Rename the variables to be understandable."
   ]
  },
  {
   "cell_type": "code",
   "execution_count": 410,
   "id": "f408876f-596f-4c2c-8b82-5e3e0fde024e",
   "metadata": {},
   "outputs": [],
   "source": [
    "data = data.rename(columns={\"B23025_002E\": \"Labor_Force\", \"B15002_011E\": \"High_School_Graduates_over25\", \n",
    "                     \"B15002_016E\": \"Master_Graduates_over25\", \"B25075_002E\": \"Value_less_than_$10,000\", \n",
    "                     \"B25075_010E\": \"Value_$50,000_to_59,999\"})"
   ]
  },
  {
   "cell_type": "code",
   "execution_count": 411,
   "id": "b9b06b65-2b5e-4a66-a365-82fe27a08b48",
   "metadata": {},
   "outputs": [],
   "source": [
    "data = data.drop(['index'], axis =1)"
   ]
  },
  {
   "cell_type": "code",
   "execution_count": 412,
   "id": "30bc9f73-5ffb-4b27-9b03-2bc324408153",
   "metadata": {},
   "outputs": [],
   "source": [
    "column_names = ['State', 'County', 'Block_Group', 'Census_Tract', 'Labor_Force', 'High_School_Graduates_over25',\n",
    "                'Master_Graduates_over25', 'Value_less_than_$10,000', 'Value_$50,000_to_59,999']\n",
    "data = data.reindex(columns=column_names)"
   ]
  },
  {
   "cell_type": "markdown",
   "id": "54cd3249-89e4-4e8d-9cb9-5b6bf449e6dd",
   "metadata": {
    "tags": []
   },
   "source": [
    "### Part 3. Load Data\n",
    "**Connect to the postgres and load the data into postgres database table**"
   ]
  },
  {
   "cell_type": "markdown",
   "id": "324820bd-6d84-4438-a2d4-fe3974cebcda",
   "metadata": {},
   "source": [
    "- Create table"
   ]
  },
  {
   "cell_type": "code",
   "execution_count": 413,
   "id": "2ed34671-61e1-417b-9a47-20ceb45c5273",
   "metadata": {},
   "outputs": [],
   "source": [
    "create_table = 'CREATE TABLE acs.qiyangch_acs_data(\\\n",
    "State varchar(5),\\\n",
    "County varchar(20),\\\n",
    "Block_Group integer,\\\n",
    "Census_Tract varchar(10),\\\n",
    "Labor_Force integer,\\\n",
    "High_School_Graduates_over25 integer,\\\n",
    "Master_Graduates_over25 integer,\\\n",
    "Value_less_than_10000 integer,\\\n",
    "Value_50000_to_59999 integer)'"
   ]
  },
  {
   "cell_type": "markdown",
   "id": "32f5b69e-f8a1-41c1-b6e9-ed7b71e0292e",
   "metadata": {},
   "source": [
    "- Insert information"
   ]
  },
  {
   "cell_type": "code",
   "execution_count": 419,
   "id": "aad8f0b1-052d-4219-9630-5e1f9dfb36c6",
   "metadata": {},
   "outputs": [],
   "source": [
    "insert_data = data.apply(lambda x: \"INSERT INTO acs.qiyangch_acs_data VALUES ('{}', '{}', {}, '{}', {}, {}, {}, {}, {})\".format\n",
    "                         (x['State'], x['County'], x['Block_Group'], x['Census_Tract'], x['Labor_Force'], x['High_School_Graduates_over25'],\n",
    "                          x['Master_Graduates_over25'], x['Value_less_than_$10,000'], x['Value_$50,000_to_59,999']), axis = 1)\n",
    "#for i in insert_data:\n",
    "#    print(i)"
   ]
  },
  {
   "cell_type": "markdown",
   "id": "1302fe47-1e92-41c4-94af-59538d3fb3bd",
   "metadata": {},
   "source": [
    "- Connect the database and load data into it"
   ]
  },
  {
   "cell_type": "code",
   "execution_count": 421,
   "id": "cf0a3cc0-713a-4dd1-98f1-dc1400ac136c",
   "metadata": {},
   "outputs": [],
   "source": [
    "conn = psycopg2.connect(host = 'acs-db.mlpolicylab.dssg.io',\n",
    "                        port = '5432',\n",
    "                        database = 'acs_data_loading',\n",
    "                        user = 'mlpp_student',\n",
    "                        password = 'CARE-horse-most')\n",
    "\n",
    "cur = conn.cursor()\n",
    "cur.execute(create_table)\n",
    "conn.commit()\n",
    "cur.close()\n",
    "conn.close()\n"
   ]
  },
  {
   "cell_type": "code",
   "execution_count": 422,
   "id": "803d9901-f52b-4574-816e-6f7eb047cd68",
   "metadata": {},
   "outputs": [],
   "source": [
    "conn = psycopg2.connect(host = 'acs-db.mlpolicylab.dssg.io',\n",
    "                        port = '5432',\n",
    "                        database = 'acs_data_loading',\n",
    "                        user = 'mlpp_student',\n",
    "                        password = 'CARE-horse-most')\n",
    "cur = conn.cursor()\n",
    "\n",
    "try:\n",
    "    for i in insert_data:\n",
    "        cur.execute(i)\n",
    "except Exception as e:\n",
    "    print(e)\n",
    "    \n",
    "finally:\n",
    "    conn.commit()\n",
    "    cur.close()\n",
    "    conn.close()\n"
   ]
  }
 ],
 "metadata": {
  "kernelspec": {
   "display_name": "Python 3 (ipykernel)",
   "language": "python",
   "name": "python3"
  },
  "language_info": {
   "codemirror_mode": {
    "name": "ipython",
    "version": 3
   },
   "file_extension": ".py",
   "mimetype": "text/x-python",
   "name": "python",
   "nbconvert_exporter": "python",
   "pygments_lexer": "ipython3",
   "version": "3.8.11"
  }
 },
 "nbformat": 4,
 "nbformat_minor": 5
}
